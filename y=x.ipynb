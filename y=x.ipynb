{
 "cells": [
  {
   "cell_type": "code",
   "execution_count": 35,
   "metadata": {},
   "outputs": [
    {
     "name": "stdout",
     "output_type": "stream",
     "text": [
      "(10000,)\n",
      "(10000,)\n"
     ]
    }
   ],
   "source": [
    "import tensorflow as tf\n",
    "from tensorflow import keras\n",
    "import numpy as np\n",
    "\n",
    "\n",
    "X_train = np.random.rand(10000)\n",
    "y_train = X_train\n",
    "\n",
    "print(X_train.shape)\n",
    "print(y_train.shape)"
   ]
  },
  {
   "cell_type": "code",
   "execution_count": 36,
   "metadata": {},
   "outputs": [
    {
     "name": "stdout",
     "output_type": "stream",
     "text": [
      "[0.78849958 0.63103088 0.13707209 ... 0.9065598  0.57421619 0.62810545]\n"
     ]
    }
   ],
   "source": [
    "print(y_train)"
   ]
  },
  {
   "cell_type": "code",
   "execution_count": 41,
   "metadata": {},
   "outputs": [
    {
     "name": "stdout",
     "output_type": "stream",
     "text": [
      "Train on 10000 samples\n",
      "Epoch 1/5\n",
      "10000/10000 [==============================] - 1s 139us/sample - loss: 0.1469 - mse: 0.1469\n",
      "Epoch 2/5\n",
      "10000/10000 [==============================] - 1s 74us/sample - loss: 0.0344 - mse: 0.0344\n",
      "Epoch 3/5\n",
      "10000/10000 [==============================] - 1s 79us/sample - loss: 0.0148 - mse: 0.0148\n",
      "Epoch 4/5\n",
      "10000/10000 [==============================] - 1s 77us/sample - loss: 0.0028 - mse: 0.0028\n",
      "Epoch 5/5\n",
      "10000/10000 [==============================] - 1s 71us/sample - loss: 2.6134e-04 - mse: 2.6134e-04\n"
     ]
    },
    {
     "data": {
      "text/plain": [
       "<tensorflow.python.keras.callbacks.History at 0x13a172ef0>"
      ]
     },
     "execution_count": 41,
     "metadata": {},
     "output_type": "execute_result"
    }
   ],
   "source": [
    "model = keras.Sequential([\n",
    "    keras.layers.Dense(5,input_dim=1,kernel_initializer='normal' ,activation=tf.nn.relu),\n",
    "    keras.layers.Dense(1, kernel_initializer='normal')\n",
    "])\n",
    "\n",
    "model.compile(optimizer='adam', \n",
    "              loss='mse',\n",
    "              metrics=['mse'])\n",
    "\n",
    "model.fit(X_train, y_train, epochs=5)"
   ]
  },
  {
   "cell_type": "code",
   "execution_count": 43,
   "metadata": {},
   "outputs": [
    {
     "name": "stdout",
     "output_type": "stream",
     "text": [
      "y=x\n",
      "[[0.33844316]] [[0.3347908]]\n"
     ]
    }
   ],
   "source": [
    "x = np.random.rand(1)\n",
    "x = np.expand_dims(x, axis=0)\n",
    "y = model.predict(x)\n",
    "print(\"y=x\")\n",
    "print(y,x)"
   ]
  },
  {
   "cell_type": "code",
   "execution_count": 45,
   "metadata": {},
   "outputs": [
    {
     "name": "stdout",
     "output_type": "stream",
     "text": [
      "WARNING:tensorflow:From /Users/sabosan/.pyenv/versions/anaconda3-4.3.1/envs/tf2.0/lib/python3.6/site-packages/tensorflow_core/python/ops/resource_variable_ops.py:1781: calling BaseResourceVariable.__init__ (from tensorflow.python.ops.resource_variable_ops) with constraint is deprecated and will be removed in a future version.\n",
      "Instructions for updating:\n",
      "If using Keras pass *_constraint arguments to layers.\n",
      "INFO:tensorflow:Assets written to: ./equal_function/1/assets\n"
     ]
    }
   ],
   "source": [
    "# with tf.keras.backend.get_session() as sess:\n",
    "export_path = './equal_function/1'\n",
    "model.save(export_path)"
   ]
  },
  {
   "cell_type": "code",
   "execution_count": 44,
   "metadata": {},
   "outputs": [],
   "source": [
    "\n",
    "\n",
    "# # with tf.keras.backend.get_session() as sess:\n",
    "# model.save(export_path)\n",
    "\n",
    "# import json\n",
    "\n",
    "# d = {\n",
    "#     \"signature_name\": 'serving_default',\n",
    "#     \"inputs\": [test_images[0].tolist()]\n",
    "# }\n",
    "\n",
    "# with open('./test_data.json', mode='w') as f:\n",
    "#     f.write(json.dumps(d))\n",
    "    \n",
    "# d = {\n",
    "#     \"signature_name\": 'serving_default',\n",
    "#     \"inputs\": [test_images[1].tolist()]\n",
    "# }\n",
    "\n",
    "# with open('./ruby_data.json', mode='w') as f:\n",
    "#     f.write(json.dumps(d))\n",
    "    \n",
    "# print(\"{}, {}\".format(test_labels[0], test_labels[1]))"
   ]
  }
 ],
 "metadata": {
  "kernelspec": {
   "display_name": "Python 3",
   "language": "python",
   "name": "python3"
  },
  "language_info": {
   "codemirror_mode": {
    "name": "ipython",
    "version": 3
   },
   "file_extension": ".py",
   "mimetype": "text/x-python",
   "name": "python",
   "nbconvert_exporter": "python",
   "pygments_lexer": "ipython3",
   "version": "3.6.7"
  }
 },
 "nbformat": 4,
 "nbformat_minor": 4
}
